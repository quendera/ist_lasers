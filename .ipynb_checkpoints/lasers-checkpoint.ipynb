{
 "cells": [
  {
   "cell_type": "code",
   "execution_count": 46,
   "id": "efe5776c-508e-46b0-b1dc-1031a1d234c8",
   "metadata": {},
   "outputs": [],
   "source": [
    "import math\n",
    "import numpy as np\n",
    "import sounddevice as sd\n",
    "\n",
    "#arduino\n",
    "import serial\n",
    "import time\n",
    "\n",
    "#midi\n",
    "import pygame\n",
    "import mido"
   ]
  },
  {
   "cell_type": "markdown",
   "id": "1ff7e706-a990-4dc7-86e0-19a9d55b3eeb",
   "metadata": {
    "tags": []
   },
   "source": [
    "## initialization"
   ]
  },
  {
   "cell_type": "markdown",
   "id": "ac19cb72-5d11-4fdb-b291-9e857838fc48",
   "metadata": {
    "jp-MarkdownHeadingCollapsed": true,
    "tags": []
   },
   "source": [
    "### arduino"
   ]
  },
  {
   "cell_type": "code",
   "execution_count": 70,
   "id": "75718d77-5152-4f0c-8989-436ddba985f5",
   "metadata": {},
   "outputs": [
    {
     "ename": "SerialException",
     "evalue": "[Errno 2] could not open port /dev/ttyACM0: [Errno 2] No such file or directory: '/dev/ttyACM0'",
     "output_type": "error",
     "traceback": [
      "\u001b[0;31m---------------------------------------------------------------------------\u001b[0m",
      "\u001b[0;31mFileNotFoundError\u001b[0m                         Traceback (most recent call last)",
      "\u001b[0;32m~/miniconda3/envs/ist/lib/python3.9/site-packages/serial/serialposix.py\u001b[0m in \u001b[0;36mopen\u001b[0;34m(self)\u001b[0m\n\u001b[1;32m    321\u001b[0m         \u001b[0;32mtry\u001b[0m\u001b[0;34m:\u001b[0m\u001b[0;34m\u001b[0m\u001b[0;34m\u001b[0m\u001b[0m\n\u001b[0;32m--> 322\u001b[0;31m             \u001b[0mself\u001b[0m\u001b[0;34m.\u001b[0m\u001b[0mfd\u001b[0m \u001b[0;34m=\u001b[0m \u001b[0mos\u001b[0m\u001b[0;34m.\u001b[0m\u001b[0mopen\u001b[0m\u001b[0;34m(\u001b[0m\u001b[0mself\u001b[0m\u001b[0;34m.\u001b[0m\u001b[0mportstr\u001b[0m\u001b[0;34m,\u001b[0m \u001b[0mos\u001b[0m\u001b[0;34m.\u001b[0m\u001b[0mO_RDWR\u001b[0m \u001b[0;34m|\u001b[0m \u001b[0mos\u001b[0m\u001b[0;34m.\u001b[0m\u001b[0mO_NOCTTY\u001b[0m \u001b[0;34m|\u001b[0m \u001b[0mos\u001b[0m\u001b[0;34m.\u001b[0m\u001b[0mO_NONBLOCK\u001b[0m\u001b[0;34m)\u001b[0m\u001b[0;34m\u001b[0m\u001b[0;34m\u001b[0m\u001b[0m\n\u001b[0m\u001b[1;32m    323\u001b[0m         \u001b[0;32mexcept\u001b[0m \u001b[0mOSError\u001b[0m \u001b[0;32mas\u001b[0m \u001b[0mmsg\u001b[0m\u001b[0;34m:\u001b[0m\u001b[0;34m\u001b[0m\u001b[0;34m\u001b[0m\u001b[0m\n",
      "\u001b[0;31mFileNotFoundError\u001b[0m: [Errno 2] No such file or directory: '/dev/ttyACM0'",
      "\nDuring handling of the above exception, another exception occurred:\n",
      "\u001b[0;31mSerialException\u001b[0m                           Traceback (most recent call last)",
      "\u001b[0;32m<ipython-input-70-274df6e64b79>\u001b[0m in \u001b[0;36m<module>\u001b[0;34m\u001b[0m\n\u001b[1;32m      2\u001b[0m \u001b[0;31m# check serial port in firmata and change below. make sure baudrates match\u001b[0m\u001b[0;34m\u001b[0m\u001b[0;34m\u001b[0m\u001b[0;34m\u001b[0m\u001b[0m\n\u001b[1;32m      3\u001b[0m \u001b[0;34m\u001b[0m\u001b[0m\n\u001b[0;32m----> 4\u001b[0;31m \u001b[0marduino\u001b[0m \u001b[0;34m=\u001b[0m \u001b[0mserial\u001b[0m\u001b[0;34m.\u001b[0m\u001b[0mSerial\u001b[0m\u001b[0;34m(\u001b[0m\u001b[0mport\u001b[0m\u001b[0;34m=\u001b[0m\u001b[0;34m'/dev/ttyACM0'\u001b[0m\u001b[0;34m,\u001b[0m \u001b[0mbaudrate\u001b[0m\u001b[0;34m=\u001b[0m\u001b[0;36m115200\u001b[0m\u001b[0;34m,\u001b[0m \u001b[0mtimeout\u001b[0m\u001b[0;34m=\u001b[0m\u001b[0;36m.1\u001b[0m\u001b[0;34m)\u001b[0m\u001b[0;34m\u001b[0m\u001b[0;34m\u001b[0m\u001b[0m\n\u001b[0m",
      "\u001b[0;32m~/miniconda3/envs/ist/lib/python3.9/site-packages/serial/serialutil.py\u001b[0m in \u001b[0;36m__init__\u001b[0;34m(self, port, baudrate, bytesize, parity, stopbits, timeout, xonxoff, rtscts, write_timeout, dsrdtr, inter_byte_timeout, exclusive, **kwargs)\u001b[0m\n\u001b[1;32m    242\u001b[0m \u001b[0;34m\u001b[0m\u001b[0m\n\u001b[1;32m    243\u001b[0m         \u001b[0;32mif\u001b[0m \u001b[0mport\u001b[0m \u001b[0;32mis\u001b[0m \u001b[0;32mnot\u001b[0m \u001b[0;32mNone\u001b[0m\u001b[0;34m:\u001b[0m\u001b[0;34m\u001b[0m\u001b[0;34m\u001b[0m\u001b[0m\n\u001b[0;32m--> 244\u001b[0;31m             \u001b[0mself\u001b[0m\u001b[0;34m.\u001b[0m\u001b[0mopen\u001b[0m\u001b[0;34m(\u001b[0m\u001b[0;34m)\u001b[0m\u001b[0;34m\u001b[0m\u001b[0;34m\u001b[0m\u001b[0m\n\u001b[0m\u001b[1;32m    245\u001b[0m \u001b[0;34m\u001b[0m\u001b[0m\n\u001b[1;32m    246\u001b[0m     \u001b[0;31m#  -  -  -  -  -  -  -  -  -  -  -  -  -  -  -  -  -  -  -  -  -  -  -  -\u001b[0m\u001b[0;34m\u001b[0m\u001b[0;34m\u001b[0m\u001b[0;34m\u001b[0m\u001b[0m\n",
      "\u001b[0;32m~/miniconda3/envs/ist/lib/python3.9/site-packages/serial/serialposix.py\u001b[0m in \u001b[0;36mopen\u001b[0;34m(self)\u001b[0m\n\u001b[1;32m    323\u001b[0m         \u001b[0;32mexcept\u001b[0m \u001b[0mOSError\u001b[0m \u001b[0;32mas\u001b[0m \u001b[0mmsg\u001b[0m\u001b[0;34m:\u001b[0m\u001b[0;34m\u001b[0m\u001b[0;34m\u001b[0m\u001b[0m\n\u001b[1;32m    324\u001b[0m             \u001b[0mself\u001b[0m\u001b[0;34m.\u001b[0m\u001b[0mfd\u001b[0m \u001b[0;34m=\u001b[0m \u001b[0;32mNone\u001b[0m\u001b[0;34m\u001b[0m\u001b[0;34m\u001b[0m\u001b[0m\n\u001b[0;32m--> 325\u001b[0;31m             \u001b[0;32mraise\u001b[0m \u001b[0mSerialException\u001b[0m\u001b[0;34m(\u001b[0m\u001b[0mmsg\u001b[0m\u001b[0;34m.\u001b[0m\u001b[0merrno\u001b[0m\u001b[0;34m,\u001b[0m \u001b[0;34m\"could not open port {}: {}\"\u001b[0m\u001b[0;34m.\u001b[0m\u001b[0mformat\u001b[0m\u001b[0;34m(\u001b[0m\u001b[0mself\u001b[0m\u001b[0;34m.\u001b[0m\u001b[0m_port\u001b[0m\u001b[0;34m,\u001b[0m \u001b[0mmsg\u001b[0m\u001b[0;34m)\u001b[0m\u001b[0;34m)\u001b[0m\u001b[0;34m\u001b[0m\u001b[0;34m\u001b[0m\u001b[0m\n\u001b[0m\u001b[1;32m    326\u001b[0m         \u001b[0;31m#~ fcntl.fcntl(self.fd, fcntl.F_SETFL, 0)  # set blocking\u001b[0m\u001b[0;34m\u001b[0m\u001b[0;34m\u001b[0m\u001b[0;34m\u001b[0m\u001b[0m\n\u001b[1;32m    327\u001b[0m \u001b[0;34m\u001b[0m\u001b[0m\n",
      "\u001b[0;31mSerialException\u001b[0m: [Errno 2] could not open port /dev/ttyACM0: [Errno 2] No such file or directory: '/dev/ttyACM0'"
     ]
    }
   ],
   "source": [
    "# connect to arduino\n",
    "# check serial port in firmata and change below. make sure baudrates match\n",
    "\n",
    "arduino = serial.Serial(port='/dev/ttyACM0', baudrate=115200, timeout=.1) #if permissions error, give 777 to arduino using sudo chmod 777 /dev/ttyACM0"
   ]
  },
  {
   "cell_type": "code",
   "execution_count": 48,
   "id": "bcb5899f-750b-4dcc-b5dd-ffcac671f602",
   "metadata": {},
   "outputs": [],
   "source": [
    "#func to write to arduino, call whenever one wants to change arduino properties\n",
    "\n",
    "def write_read(x):\n",
    "    arduino.write(bytes(x, 'utf-8'))\n",
    "    time.sleep(0.05)\n",
    "    data = arduino.readline()\n",
    "    return data"
   ]
  },
  {
   "cell_type": "markdown",
   "id": "dbcaeba0-a34f-4e03-bdce-7d6b89e91002",
   "metadata": {
    "tags": []
   },
   "source": [
    "### midi controller"
   ]
  },
  {
   "cell_type": "code",
   "execution_count": 71,
   "id": "593e6cbd-5c6d-4d91-8188-7428e9c1246c",
   "metadata": {},
   "outputs": [],
   "source": [
    "#setup midi\n",
    "\n",
    "mido.set_backend('mido.backends.rtmidi') # set backend to rtmidi\n",
    "mido.get_output_names() # list midi devices\n"
   ]
  },
  {
   "cell_type": "code",
   "execution_count": 50,
   "id": "f7148b0c-36b4-4444-a983-5e9ca9f7f986",
   "metadata": {},
   "outputs": [
    {
     "data": {
      "text/plain": [
       "['Midi Through:Midi Through Port-0 14:0',\n",
       " 'Akai LPD8 Wireless:Akai LPD8 Wireless MIDI 1 24:0',\n",
       " 'Midi Through:Midi Through Port-0 14:0',\n",
       " 'Akai LPD8 Wireless:Akai LPD8 Wireless MIDI 1 24:0',\n",
       " 'RtMidiIn Client:RtMidi input 128:0',\n",
       " 'RtMidiIn Client:RtMidi input 132:0']"
      ]
     },
     "execution_count": 50,
     "metadata": {},
     "output_type": "execute_result"
    }
   ],
   "source": [
    "#open port to midi device listed above\n",
    "\n",
    "port = mido.open_ioport('Akai LPD8 Wireless:Akai LPD8 Wireless MIDI 1 24:0')"
   ]
  },
  {
   "cell_type": "code",
   "execution_count": 45,
   "id": "d8fc751a-4c86-4527-a3a6-0de418b82eea",
   "metadata": {},
   "outputs": [
    {
     "name": "stdout",
     "output_type": "stream",
     "text": [
      "control_change channel=15 control=1 value=1 time=0\n",
      "control_change channel=15 control=1 value=2 time=0\n",
      "control_change channel=15 control=1 value=3 time=0\n",
      "control_change channel=15 control=1 value=4 time=0\n",
      "control_change channel=15 control=1 value=5 time=0\n",
      "control_change channel=15 control=1 value=6 time=0\n",
      "control_change channel=15 control=1 value=7 time=0\n",
      "control_change channel=15 control=1 value=8 time=0\n",
      "control_change channel=15 control=1 value=9 time=0\n",
      "control_change channel=15 control=1 value=10 time=0\n",
      "control_change channel=15 control=1 value=11 time=0\n",
      "control_change channel=15 control=1 value=12 time=0\n",
      "control_change channel=15 control=1 value=13 time=0\n",
      "control_change channel=15 control=1 value=14 time=0\n",
      "control_change channel=15 control=1 value=15 time=0\n",
      "control_change channel=15 control=1 value=16 time=0\n",
      "control_change channel=15 control=1 value=17 time=0\n",
      "control_change channel=15 control=1 value=18 time=0\n",
      "control_change channel=15 control=1 value=19 time=0\n",
      "control_change channel=15 control=1 value=20 time=0\n",
      "control_change channel=15 control=1 value=21 time=0\n",
      "control_change channel=15 control=1 value=22 time=0\n",
      "control_change channel=15 control=1 value=23 time=0\n",
      "control_change channel=15 control=1 value=24 time=0\n",
      "control_change channel=15 control=1 value=25 time=0\n",
      "control_change channel=15 control=1 value=26 time=0\n",
      "control_change channel=15 control=1 value=25 time=0\n",
      "control_change channel=15 control=1 value=24 time=0\n",
      "control_change channel=15 control=1 value=23 time=0\n",
      "control_change channel=15 control=1 value=22 time=0\n",
      "control_change channel=15 control=1 value=21 time=0\n",
      "control_change channel=15 control=1 value=20 time=0\n",
      "control_change channel=15 control=1 value=19 time=0\n",
      "control_change channel=15 control=1 value=18 time=0\n",
      "control_change channel=15 control=1 value=17 time=0\n",
      "control_change channel=15 control=1 value=16 time=0\n",
      "control_change channel=15 control=1 value=15 time=0\n",
      "control_change channel=15 control=1 value=14 time=0\n",
      "control_change channel=15 control=1 value=13 time=0\n",
      "control_change channel=15 control=1 value=12 time=0\n",
      "control_change channel=15 control=1 value=11 time=0\n",
      "control_change channel=15 control=1 value=10 time=0\n",
      "control_change channel=15 control=1 value=9 time=0\n",
      "control_change channel=15 control=1 value=8 time=0\n",
      "control_change channel=15 control=1 value=7 time=0\n",
      "control_change channel=15 control=1 value=6 time=0\n",
      "control_change channel=15 control=1 value=5 time=0\n",
      "control_change channel=15 control=1 value=4 time=0\n",
      "control_change channel=15 control=1 value=3 time=0\n",
      "control_change channel=15 control=1 value=2 time=0\n",
      "control_change channel=15 control=1 value=1 time=0\n",
      "control_change channel=15 control=1 value=0 time=0\n",
      "control_change channel=15 control=1 value=1 time=0\n",
      "control_change channel=15 control=1 value=2 time=0\n",
      "control_change channel=15 control=1 value=3 time=0\n",
      "control_change channel=15 control=1 value=4 time=0\n",
      "control_change channel=15 control=1 value=5 time=0\n",
      "control_change channel=15 control=1 value=6 time=0\n",
      "control_change channel=15 control=1 value=7 time=0\n",
      "control_change channel=15 control=1 value=8 time=0\n",
      "control_change channel=15 control=1 value=9 time=0\n",
      "control_change channel=15 control=1 value=10 time=0\n",
      "control_change channel=15 control=1 value=11 time=0\n",
      "control_change channel=15 control=1 value=12 time=0\n",
      "control_change channel=15 control=1 value=13 time=0\n",
      "control_change channel=15 control=1 value=14 time=0\n",
      "control_change channel=15 control=1 value=15 time=0\n",
      "control_change channel=15 control=1 value=16 time=0\n",
      "control_change channel=15 control=1 value=17 time=0\n",
      "control_change channel=15 control=1 value=18 time=0\n",
      "control_change channel=15 control=1 value=19 time=0\n",
      "control_change channel=15 control=1 value=20 time=0\n",
      "control_change channel=15 control=1 value=21 time=0\n",
      "control_change channel=15 control=1 value=22 time=0\n",
      "control_change channel=15 control=1 value=23 time=0\n",
      "control_change channel=15 control=1 value=24 time=0\n",
      "control_change channel=15 control=1 value=25 time=0\n",
      "control_change channel=15 control=1 value=24 time=0\n",
      "control_change channel=15 control=1 value=23 time=0\n",
      "control_change channel=15 control=1 value=22 time=0\n",
      "control_change channel=15 control=1 value=21 time=0\n",
      "control_change channel=15 control=1 value=20 time=0\n",
      "control_change channel=15 control=1 value=19 time=0\n",
      "control_change channel=15 control=1 value=18 time=0\n",
      "control_change channel=15 control=1 value=15 time=0\n",
      "control_change channel=15 control=1 value=14 time=0\n",
      "control_change channel=15 control=1 value=13 time=0\n",
      "control_change channel=15 control=1 value=12 time=0\n",
      "control_change channel=15 control=1 value=11 time=0\n",
      "control_change channel=15 control=1 value=10 time=0\n",
      "control_change channel=15 control=1 value=9 time=0\n",
      "control_change channel=15 control=1 value=8 time=0\n",
      "control_change channel=15 control=1 value=7 time=0\n",
      "control_change channel=15 control=1 value=6 time=0\n",
      "control_change channel=15 control=1 value=5 time=0\n",
      "control_change channel=15 control=1 value=4 time=0\n",
      "control_change channel=15 control=1 value=3 time=0\n",
      "control_change channel=15 control=1 value=0 time=0\n",
      "control_change channel=15 control=1 value=1 time=0\n",
      "control_change channel=15 control=1 value=2 time=0\n",
      "control_change channel=15 control=1 value=3 time=0\n",
      "control_change channel=15 control=1 value=4 time=0\n",
      "control_change channel=15 control=1 value=5 time=0\n",
      "control_change channel=15 control=1 value=6 time=0\n",
      "control_change channel=15 control=1 value=7 time=0\n",
      "control_change channel=15 control=1 value=8 time=0\n",
      "control_change channel=15 control=1 value=9 time=0\n",
      "control_change channel=15 control=1 value=10 time=0\n",
      "control_change channel=15 control=1 value=11 time=0\n",
      "control_change channel=15 control=1 value=12 time=0\n",
      "control_change channel=15 control=1 value=13 time=0\n",
      "control_change channel=15 control=1 value=14 time=0\n",
      "control_change channel=15 control=1 value=15 time=0\n",
      "control_change channel=15 control=1 value=16 time=0\n",
      "control_change channel=15 control=1 value=17 time=0\n",
      "control_change channel=15 control=1 value=18 time=0\n",
      "control_change channel=15 control=1 value=19 time=0\n",
      "control_change channel=15 control=1 value=20 time=0\n",
      "control_change channel=15 control=1 value=21 time=0\n",
      "control_change channel=15 control=1 value=22 time=0\n",
      "control_change channel=15 control=1 value=21 time=0\n",
      "control_change channel=15 control=1 value=20 time=0\n",
      "control_change channel=15 control=1 value=19 time=0\n",
      "control_change channel=15 control=1 value=18 time=0\n",
      "control_change channel=15 control=1 value=17 time=0\n",
      "control_change channel=15 control=1 value=16 time=0\n",
      "control_change channel=15 control=1 value=15 time=0\n",
      "control_change channel=15 control=1 value=14 time=0\n",
      "control_change channel=15 control=1 value=13 time=0\n",
      "control_change channel=15 control=1 value=12 time=0\n",
      "control_change channel=15 control=1 value=11 time=0\n",
      "control_change channel=15 control=1 value=10 time=0\n",
      "control_change channel=15 control=1 value=9 time=0\n",
      "control_change channel=15 control=1 value=8 time=0\n",
      "control_change channel=15 control=1 value=5 time=0\n",
      "control_change channel=15 control=1 value=2 time=0\n",
      "control_change channel=15 control=1 value=1 time=0\n",
      "control_change channel=15 control=1 value=0 time=0\n"
     ]
    },
    {
     "ename": "KeyboardInterrupt",
     "evalue": "",
     "output_type": "error",
     "traceback": [
      "\u001b[0;31m---------------------------------------------------------------------------\u001b[0m",
      "\u001b[0;31mKeyboardInterrupt\u001b[0m                         Traceback (most recent call last)",
      "\u001b[0;32m<ipython-input-45-1c9f70c1c941>\u001b[0m in \u001b[0;36m<module>\u001b[0;34m\u001b[0m\n\u001b[0;32m----> 1\u001b[0;31m \u001b[0;32mfor\u001b[0m \u001b[0mmsg\u001b[0m \u001b[0;32min\u001b[0m \u001b[0mport\u001b[0m\u001b[0;34m:\u001b[0m\u001b[0;34m\u001b[0m\u001b[0;34m\u001b[0m\u001b[0m\n\u001b[0m\u001b[1;32m      2\u001b[0m     \u001b[0mprint\u001b[0m\u001b[0;34m(\u001b[0m\u001b[0mmsg\u001b[0m\u001b[0;34m)\u001b[0m\u001b[0;34m\u001b[0m\u001b[0;34m\u001b[0m\u001b[0m\n",
      "\u001b[0;32m~/miniconda3/envs/ist/lib/python3.9/site-packages/mido/ports.py\u001b[0m in \u001b[0;36m__iter__\u001b[0;34m(self)\u001b[0m\n\u001b[1;32m    237\u001b[0m         \u001b[0;32mwhile\u001b[0m \u001b[0;32mTrue\u001b[0m\u001b[0;34m:\u001b[0m\u001b[0;34m\u001b[0m\u001b[0;34m\u001b[0m\u001b[0m\n\u001b[1;32m    238\u001b[0m             \u001b[0;32mtry\u001b[0m\u001b[0;34m:\u001b[0m\u001b[0;34m\u001b[0m\u001b[0;34m\u001b[0m\u001b[0m\n\u001b[0;32m--> 239\u001b[0;31m                 \u001b[0;32myield\u001b[0m \u001b[0mself\u001b[0m\u001b[0;34m.\u001b[0m\u001b[0mreceive\u001b[0m\u001b[0;34m(\u001b[0m\u001b[0;34m)\u001b[0m\u001b[0;34m\u001b[0m\u001b[0;34m\u001b[0m\u001b[0m\n\u001b[0m\u001b[1;32m    240\u001b[0m             \u001b[0;32mexcept\u001b[0m \u001b[0mIOError\u001b[0m\u001b[0;34m:\u001b[0m\u001b[0;34m\u001b[0m\u001b[0;34m\u001b[0m\u001b[0m\n\u001b[1;32m    241\u001b[0m                 \u001b[0;32mif\u001b[0m \u001b[0mself\u001b[0m\u001b[0;34m.\u001b[0m\u001b[0mclosed\u001b[0m\u001b[0;34m:\u001b[0m\u001b[0;34m\u001b[0m\u001b[0;34m\u001b[0m\u001b[0m\n",
      "\u001b[0;32m~/miniconda3/envs/ist/lib/python3.9/site-packages/mido/ports.py\u001b[0m in \u001b[0;36mreceive\u001b[0;34m(self, block)\u001b[0m\n\u001b[1;32m    210\u001b[0m         \u001b[0;32mwhile\u001b[0m \u001b[0;32mTrue\u001b[0m\u001b[0;34m:\u001b[0m\u001b[0;34m\u001b[0m\u001b[0;34m\u001b[0m\u001b[0m\n\u001b[1;32m    211\u001b[0m             \u001b[0;32mwith\u001b[0m \u001b[0mself\u001b[0m\u001b[0;34m.\u001b[0m\u001b[0m_lock\u001b[0m\u001b[0;34m:\u001b[0m\u001b[0;34m\u001b[0m\u001b[0;34m\u001b[0m\u001b[0m\n\u001b[0;32m--> 212\u001b[0;31m                 \u001b[0mmsg\u001b[0m \u001b[0;34m=\u001b[0m \u001b[0mself\u001b[0m\u001b[0;34m.\u001b[0m\u001b[0m_receive\u001b[0m\u001b[0;34m(\u001b[0m\u001b[0mblock\u001b[0m\u001b[0;34m=\u001b[0m\u001b[0mblock\u001b[0m\u001b[0;34m)\u001b[0m\u001b[0;34m\u001b[0m\u001b[0;34m\u001b[0m\u001b[0m\n\u001b[0m\u001b[1;32m    213\u001b[0m                 \u001b[0;32mif\u001b[0m \u001b[0mmsg\u001b[0m\u001b[0;34m:\u001b[0m\u001b[0;34m\u001b[0m\u001b[0;34m\u001b[0m\u001b[0m\n\u001b[1;32m    214\u001b[0m                     \u001b[0;32mreturn\u001b[0m \u001b[0mmsg\u001b[0m\u001b[0;34m\u001b[0m\u001b[0;34m\u001b[0m\u001b[0m\n",
      "\u001b[0;32m~/miniconda3/envs/ist/lib/python3.9/site-packages/mido/ports.py\u001b[0m in \u001b[0;36m_receive\u001b[0;34m(self, block)\u001b[0m\n\u001b[1;32m    345\u001b[0m \u001b[0;34m\u001b[0m\u001b[0m\n\u001b[1;32m    346\u001b[0m     \u001b[0;32mdef\u001b[0m \u001b[0m_receive\u001b[0m\u001b[0;34m(\u001b[0m\u001b[0mself\u001b[0m\u001b[0;34m,\u001b[0m \u001b[0mblock\u001b[0m\u001b[0;34m=\u001b[0m\u001b[0;32mTrue\u001b[0m\u001b[0;34m)\u001b[0m\u001b[0;34m:\u001b[0m\u001b[0;34m\u001b[0m\u001b[0;34m\u001b[0m\u001b[0m\n\u001b[0;32m--> 347\u001b[0;31m         \u001b[0;32mreturn\u001b[0m \u001b[0mself\u001b[0m\u001b[0;34m.\u001b[0m\u001b[0minput\u001b[0m\u001b[0;34m.\u001b[0m\u001b[0mreceive\u001b[0m\u001b[0;34m(\u001b[0m\u001b[0mblock\u001b[0m\u001b[0;34m=\u001b[0m\u001b[0mblock\u001b[0m\u001b[0;34m)\u001b[0m\u001b[0;34m\u001b[0m\u001b[0;34m\u001b[0m\u001b[0m\n\u001b[0m\u001b[1;32m    348\u001b[0m \u001b[0;34m\u001b[0m\u001b[0m\n\u001b[1;32m    349\u001b[0m \u001b[0;34m\u001b[0m\u001b[0m\n",
      "\u001b[0;32m~/miniconda3/envs/ist/lib/python3.9/site-packages/mido/backends/rtmidi.py\u001b[0m in \u001b[0;36mreceive\u001b[0;34m(self, block)\u001b[0m\n\u001b[1;32m    139\u001b[0m     \u001b[0;32mdef\u001b[0m \u001b[0mreceive\u001b[0m\u001b[0;34m(\u001b[0m\u001b[0mself\u001b[0m\u001b[0;34m,\u001b[0m \u001b[0mblock\u001b[0m\u001b[0;34m=\u001b[0m\u001b[0;32mTrue\u001b[0m\u001b[0;34m)\u001b[0m\u001b[0;34m:\u001b[0m\u001b[0;34m\u001b[0m\u001b[0;34m\u001b[0m\u001b[0m\n\u001b[1;32m    140\u001b[0m         \u001b[0;32mif\u001b[0m \u001b[0mblock\u001b[0m\u001b[0;34m:\u001b[0m\u001b[0;34m\u001b[0m\u001b[0;34m\u001b[0m\u001b[0m\n\u001b[0;32m--> 141\u001b[0;31m             \u001b[0;32mreturn\u001b[0m \u001b[0mself\u001b[0m\u001b[0;34m.\u001b[0m\u001b[0m_queue\u001b[0m\u001b[0;34m.\u001b[0m\u001b[0mget\u001b[0m\u001b[0;34m(\u001b[0m\u001b[0;34m)\u001b[0m\u001b[0;34m\u001b[0m\u001b[0;34m\u001b[0m\u001b[0m\n\u001b[0m\u001b[1;32m    142\u001b[0m         \u001b[0;32melse\u001b[0m\u001b[0;34m:\u001b[0m\u001b[0;34m\u001b[0m\u001b[0;34m\u001b[0m\u001b[0m\n\u001b[1;32m    143\u001b[0m             \u001b[0;32mreturn\u001b[0m \u001b[0mself\u001b[0m\u001b[0;34m.\u001b[0m\u001b[0m_queue\u001b[0m\u001b[0;34m.\u001b[0m\u001b[0mpoll\u001b[0m\u001b[0;34m(\u001b[0m\u001b[0;34m)\u001b[0m\u001b[0;34m\u001b[0m\u001b[0;34m\u001b[0m\u001b[0m\n",
      "\u001b[0;32m~/miniconda3/envs/ist/lib/python3.9/site-packages/mido/backends/_parser_queue.py\u001b[0m in \u001b[0;36mget\u001b[0;34m(self)\u001b[0m\n\u001b[1;32m     64\u001b[0m             \u001b[0;32mreturn\u001b[0m \u001b[0mself\u001b[0m\u001b[0;34m.\u001b[0m\u001b[0m_get_py2\u001b[0m\u001b[0;34m(\u001b[0m\u001b[0;34m)\u001b[0m\u001b[0;34m\u001b[0m\u001b[0;34m\u001b[0m\u001b[0m\n\u001b[1;32m     65\u001b[0m         \u001b[0;32melse\u001b[0m\u001b[0;34m:\u001b[0m\u001b[0;34m\u001b[0m\u001b[0;34m\u001b[0m\u001b[0m\n\u001b[0;32m---> 66\u001b[0;31m             \u001b[0;32mreturn\u001b[0m \u001b[0mself\u001b[0m\u001b[0;34m.\u001b[0m\u001b[0m_queue\u001b[0m\u001b[0;34m.\u001b[0m\u001b[0mget\u001b[0m\u001b[0;34m(\u001b[0m\u001b[0;34m)\u001b[0m\u001b[0;34m\u001b[0m\u001b[0;34m\u001b[0m\u001b[0m\n\u001b[0m\u001b[1;32m     67\u001b[0m \u001b[0;34m\u001b[0m\u001b[0m\n\u001b[1;32m     68\u001b[0m     \u001b[0;32mdef\u001b[0m \u001b[0mpoll\u001b[0m\u001b[0;34m(\u001b[0m\u001b[0mself\u001b[0m\u001b[0;34m)\u001b[0m\u001b[0;34m:\u001b[0m\u001b[0;34m\u001b[0m\u001b[0;34m\u001b[0m\u001b[0m\n",
      "\u001b[0;32m~/miniconda3/envs/ist/lib/python3.9/queue.py\u001b[0m in \u001b[0;36mget\u001b[0;34m(self, block, timeout)\u001b[0m\n\u001b[1;32m    169\u001b[0m             \u001b[0;32melif\u001b[0m \u001b[0mtimeout\u001b[0m \u001b[0;32mis\u001b[0m \u001b[0;32mNone\u001b[0m\u001b[0;34m:\u001b[0m\u001b[0;34m\u001b[0m\u001b[0;34m\u001b[0m\u001b[0m\n\u001b[1;32m    170\u001b[0m                 \u001b[0;32mwhile\u001b[0m \u001b[0;32mnot\u001b[0m \u001b[0mself\u001b[0m\u001b[0;34m.\u001b[0m\u001b[0m_qsize\u001b[0m\u001b[0;34m(\u001b[0m\u001b[0;34m)\u001b[0m\u001b[0;34m:\u001b[0m\u001b[0;34m\u001b[0m\u001b[0;34m\u001b[0m\u001b[0m\n\u001b[0;32m--> 171\u001b[0;31m                     \u001b[0mself\u001b[0m\u001b[0;34m.\u001b[0m\u001b[0mnot_empty\u001b[0m\u001b[0;34m.\u001b[0m\u001b[0mwait\u001b[0m\u001b[0;34m(\u001b[0m\u001b[0;34m)\u001b[0m\u001b[0;34m\u001b[0m\u001b[0;34m\u001b[0m\u001b[0m\n\u001b[0m\u001b[1;32m    172\u001b[0m             \u001b[0;32melif\u001b[0m \u001b[0mtimeout\u001b[0m \u001b[0;34m<\u001b[0m \u001b[0;36m0\u001b[0m\u001b[0;34m:\u001b[0m\u001b[0;34m\u001b[0m\u001b[0;34m\u001b[0m\u001b[0m\n\u001b[1;32m    173\u001b[0m                 \u001b[0;32mraise\u001b[0m \u001b[0mValueError\u001b[0m\u001b[0;34m(\u001b[0m\u001b[0;34m\"'timeout' must be a non-negative number\"\u001b[0m\u001b[0;34m)\u001b[0m\u001b[0;34m\u001b[0m\u001b[0;34m\u001b[0m\u001b[0m\n",
      "\u001b[0;32m~/miniconda3/envs/ist/lib/python3.9/threading.py\u001b[0m in \u001b[0;36mwait\u001b[0;34m(self, timeout)\u001b[0m\n\u001b[1;32m    310\u001b[0m         \u001b[0;32mtry\u001b[0m\u001b[0;34m:\u001b[0m    \u001b[0;31m# restore state no matter what (e.g., KeyboardInterrupt)\u001b[0m\u001b[0;34m\u001b[0m\u001b[0;34m\u001b[0m\u001b[0m\n\u001b[1;32m    311\u001b[0m             \u001b[0;32mif\u001b[0m \u001b[0mtimeout\u001b[0m \u001b[0;32mis\u001b[0m \u001b[0;32mNone\u001b[0m\u001b[0;34m:\u001b[0m\u001b[0;34m\u001b[0m\u001b[0;34m\u001b[0m\u001b[0m\n\u001b[0;32m--> 312\u001b[0;31m                 \u001b[0mwaiter\u001b[0m\u001b[0;34m.\u001b[0m\u001b[0macquire\u001b[0m\u001b[0;34m(\u001b[0m\u001b[0;34m)\u001b[0m\u001b[0;34m\u001b[0m\u001b[0;34m\u001b[0m\u001b[0m\n\u001b[0m\u001b[1;32m    313\u001b[0m                 \u001b[0mgotit\u001b[0m \u001b[0;34m=\u001b[0m \u001b[0;32mTrue\u001b[0m\u001b[0;34m\u001b[0m\u001b[0;34m\u001b[0m\u001b[0m\n\u001b[1;32m    314\u001b[0m             \u001b[0;32melse\u001b[0m\u001b[0;34m:\u001b[0m\u001b[0;34m\u001b[0m\u001b[0;34m\u001b[0m\u001b[0m\n",
      "\u001b[0;31mKeyboardInterrupt\u001b[0m: "
     ]
    }
   ],
   "source": [
    "#figure out how to make this asynch\n",
    "for msg in port:\n",
    "    print(msg)"
   ]
  },
  {
   "cell_type": "markdown",
   "id": "1f825510-ce27-491d-93ea-9e5e90c0208a",
   "metadata": {
    "tags": []
   },
   "source": [
    "## initialization"
   ]
  },
  {
   "cell_type": "code",
   "execution_count": null,
   "id": "4a1cb468-9a61-4b0f-90c9-a05fd5180cad",
   "metadata": {},
   "outputs": [],
   "source": [
    "num = input(\"Enter a number: \")\n",
    "value = write_read(num)\n",
    "print(value)"
   ]
  },
  {
   "cell_type": "code",
   "execution_count": 64,
   "id": "3b7c9850-8879-44b4-807b-e2362063ecda",
   "metadata": {},
   "outputs": [],
   "source": [
    "def square(freq, t, phase, shift):\n",
    "    a = (np.sin(freq * t + phase)) + shift\n",
    "    d = np.round(a)\n",
    "    return d"
   ]
  },
  {
   "cell_type": "code",
   "execution_count": 65,
   "id": "0918564d-1109-4ee9-b215-2b627247c467",
   "metadata": {},
   "outputs": [],
   "source": [
    "sample_rate = 44100\n",
    "duration = 1000 # in seconds\n",
    "\n",
    "frequency_x = 0.5\n",
    "frequency_y = 0.5\n",
    "\n",
    "phase_x = np.pi/2\n",
    "phase_y = 0\n",
    "\n",
    "amplitude_x = 1\n",
    "amplitude_y = 1\n",
    "\n",
    "t = np.linspace(0, duration * 2 * np.pi , int(duration * sample_rate))\n",
    "\n",
    "squarewave = square(2 *  frequency_x, t, 0, 0.5)\n",
    "\n",
    "left = np.abs(np.sin(frequency_x * t + phase_x ) * amplitude_x) * squarewave\n",
    "right = np.sin(frequency_y * t + phase_y) * amplitude_y\n",
    "\n",
    "\n",
    "sinewave_data = np.array([right,left]).T\n"
   ]
  },
  {
   "cell_type": "code",
   "execution_count": 62,
   "id": "ce762d85-c8d8-4c39-a7a5-03ab6dc02afd",
   "metadata": {},
   "outputs": [],
   "source": [
    "sd.play(sinewave_data, sample_rate)"
   ]
  },
  {
   "cell_type": "code",
   "execution_count": 63,
   "id": "2ccffdba-1e4f-4f5e-a782-6fa0a74d87e9",
   "metadata": {},
   "outputs": [],
   "source": [
    "sd.stop()\n",
    "\n"
   ]
  },
  {
   "cell_type": "code",
   "execution_count": 66,
   "id": "fed0e2f9-7ab1-457e-955c-44cd2169eafd",
   "metadata": {},
   "outputs": [
    {
     "data": {
      "image/png": "[encoded data removed]",
      "text/plain": [
       "<Figure size 640x480 with 1 Axes>"
      ]
     },
     "metadata": {},
     "output_type": "display_data"
    }
   ],
   "source": [
    "import matplotlib.pyplot as plt\n",
    "\n",
    "# slicing 500 samples off of your wavfile should show about 5 cycles\n",
    "plot_data = sinewave_data[:100]\n",
    "\n",
    "fig, ax = plt.subplots()\n",
    "ax.plot(plot_data, linewidth=3)\n",
    "plt.xlabel('Sample Number')\n",
    "plt.ylabel('Amplitude')\n",
    "\n",
    "plt.title('Sine Wave')\n",
    "plt.show()"
   ]
  },
  {
   "cell_type": "code",
   "execution_count": 60,
   "id": "8ffca241-5415-437c-b9ee-a8ec5a4e0bb8",
   "metadata": {},
   "outputs": [
    {
     "data": {
      "image/png": "[encoded data removed]",
      "text/plain": [
       "<Figure size 640x480 with 1 Axes>"
      ]
     },
     "metadata": {},
     "output_type": "display_data"
    }
   ],
   "source": [
    "import matplotlib.pyplot as plt\n",
    "\n",
    "# slicing 500 samples off of your wavfile should show about 5 cycles\n",
    "plot_data = squarewave[:50]\n",
    "\n",
    "fig, ax = plt.subplots()\n",
    "ax.plot(plot_data, linewidth=3)\n",
    "plt.xlabel('Sample Number')\n",
    "plt.ylabel('Amplitude')\n",
    "plt.title('Sine Wave')\n",
    "plt.show()"
   ]
  },
  {
   "cell_type": "code",
   "execution_count": null,
   "id": "ca84c11f-6560-4c5d-b278-3d5b86e4b1b7",
   "metadata": {},
   "outputs": [],
   "source": []
  }
 ],
 "metadata": {
  "kernelspec": {
   "display_name": "Python 3 (ipykernel)",
   "language": "python",
   "name": "python3"
  },
  "language_info": {
   "codemirror_mode": {
    "name": "ipython",
    "version": 3
   },
   "file_extension": ".py",
   "mimetype": "text/x-python",
   "name": "python",
   "nbconvert_exporter": "python",
   "pygments_lexer": "ipython3",
   "version": "3.9.6"
  }
 },
 "nbformat": 4,
 "nbformat_minor": 5
}
