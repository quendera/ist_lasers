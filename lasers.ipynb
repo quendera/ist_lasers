{
 "cells": [
  {
   "cell_type": "code",
   "execution_count": 1,
   "id": "efe5776c-508e-46b0-b1dc-1031a1d234c8",
   "metadata": {},
   "outputs": [
    {
     "name": "stdout",
     "output_type": "stream",
     "text": [
      "pygame 2.0.1 (SDL 2.0.14, Python 3.9.6)\n",
      "Hello from the pygame community. https://www.pygame.org/contribute.html\n"
     ]
    }
   ],
   "source": [
    "import math\n",
    "import numpy as np\n",
    "import sounddevice as sd\n",
    "\n",
    "#arduino\n",
    "import serial\n",
    "import time\n",
    "\n",
    "#midi\n",
    "import pygame\n",
    "import mido"
   ]
  },
  {
   "cell_type": "markdown",
   "id": "1ff7e706-a990-4dc7-86e0-19a9d55b3eeb",
   "metadata": {
    "tags": []
   },
   "source": [
    "## initialization"
   ]
  },
  {
   "cell_type": "markdown",
   "id": "ac19cb72-5d11-4fdb-b291-9e857838fc48",
   "metadata": {
    "tags": []
   },
   "source": [
    "### arduino"
   ]
  },
  {
   "cell_type": "code",
   "execution_count": 2,
   "id": "75718d77-5152-4f0c-8989-436ddba985f5",
   "metadata": {},
   "outputs": [],
   "source": [
    "# connect to arduino\n",
    "# check serial port in firmata and change below. make sure baudrates match\n",
    "\n",
    "arduino = serial.Serial(port='/dev/ttyACM0', baudrate=115200, timeout=0.1) #if permissions error, give 777 to arduino using sudo chmod 777 /dev/ttyACM0\n",
    "\n"
   ]
  },
  {
   "cell_type": "code",
   "execution_count": 3,
   "id": "bcb5899f-750b-4dcc-b5dd-ffcac671f602",
   "metadata": {},
   "outputs": [],
   "source": [
    "#func to write to arduino, call whenever one wants to change arduino properties\n",
    "\n",
    "def send_to_arduino(laser,value):\n",
    "    arduino.write(bytes(laser, 'utf-8'))\n",
    "    arduino.write(bytes(value, 'utf-8'))"
   ]
  },
  {
   "cell_type": "markdown",
   "id": "dbcaeba0-a34f-4e03-bdce-7d6b89e91002",
   "metadata": {
    "tags": []
   },
   "source": [
    "### midi controller"
   ]
  },
  {
   "cell_type": "code",
   "execution_count": 4,
   "id": "593e6cbd-5c6d-4d91-8188-7428e9c1246c",
   "metadata": {},
   "outputs": [
    {
     "data": {
      "text/plain": [
       "['Midi Through:Midi Through Port-0 14:0',\n",
       " 'Akai LPD8 Wireless:Akai LPD8 Wireless MIDI 1 24:0',\n",
       " 'Midi Through:Midi Through Port-0 14:0',\n",
       " 'Akai LPD8 Wireless:Akai LPD8 Wireless MIDI 1 24:0']"
      ]
     },
     "execution_count": 4,
     "metadata": {},
     "output_type": "execute_result"
    }
   ],
   "source": [
    "#setup midi\n",
    "\n",
    "mido.set_backend('mido.backends.rtmidi') # set backend to rtmidi\n",
    "mido.get_output_names() # list midi devices\n"
   ]
  },
  {
   "cell_type": "code",
   "execution_count": 11,
   "id": "54549ad9-7adf-4d7c-8f1c-e5da31d1dc16",
   "metadata": {},
   "outputs": [],
   "source": [
    "def get_message(message):\n",
    "    \n",
    "    # CHECK BEFORE SHOW!!!!!!!!\n",
    "    \n",
    "    default_pwm_a = '100'\n",
    "    default_pwm_b = '128'\n",
    "\n",
    "\n",
    "    if message.type == 'control_change': #knobs\n",
    "        knob = message.control\n",
    "        value_int = message.value\n",
    "        value = str(value_int)\n",
    "        laser = ''\n",
    "\n",
    "        if knob == 1: #what knob 1 should do\n",
    "            laser = 'A'\n",
    "        elif knob == 4:\n",
    "            laser = 'B'\n",
    "#             print(message.value)\n",
    "#         elif knob == 5:\n",
    "#             print(message.value)\n",
    "#         elif knob == 4:\n",
    "#             print(message.value)\n",
    "#         elif knob == 5:\n",
    "#             print(message.value)\n",
    "#         elif knob == 6:\n",
    "#             print(message.value)\n",
    "#         elif knob == 7:\n",
    "#             print(message.value)\n",
    "#         elif knob == 8:\n",
    "#             print(message.value)\n",
    "        send_to_arduino(laser, value)\n",
    "\n",
    "\n",
    "    elif message.type == 'note_on': #buttons\n",
    "        button = message.note\n",
    "        laser = ''\n",
    "        on_off = ''\n",
    "        \n",
    "        if button == 36:\n",
    "            laser = 'A'\n",
    "            on_off = '0'\n",
    "            \n",
    "        elif button == 37:\n",
    "            laser = 'A'\n",
    "            on_off = default_pwm_a\n",
    "            \n",
    "        elif button == 40:\n",
    "            laser = 'B'\n",
    "            on_off = '0'\n",
    "        \n",
    "        elif button == 41:\n",
    "            laser = 'B'\n",
    "            on_off = default_pwm_b\n",
    "        \n",
    "        send_to_arduino(laser, on_off)\n"
   ]
  },
  {
   "cell_type": "code",
   "execution_count": 6,
   "id": "f7148b0c-36b4-4444-a983-5e9ca9f7f986",
   "metadata": {},
   "outputs": [],
   "source": [
    "#open port to midi device listed above\n",
    "\n",
    "port = mido.open_input('Akai LPD8 Wireless:Akai LPD8 Wireless MIDI 1 24:0', callback=get_message)"
   ]
  },
  {
   "cell_type": "code",
   "execution_count": 7,
   "id": "c06e9749-e337-47a7-b3f8-72a75eed5c7d",
   "metadata": {},
   "outputs": [],
   "source": [
    "port.callback = lambda message: None"
   ]
  },
  {
   "cell_type": "code",
   "execution_count": 12,
   "id": "59dc2334-b81b-4148-aacd-acdb5e6fe300",
   "metadata": {},
   "outputs": [],
   "source": [
    "port.callback = get_message"
   ]
  },
  {
   "cell_type": "markdown",
   "id": "1f825510-ce27-491d-93ea-9e5e90c0208a",
   "metadata": {
    "tags": []
   },
   "source": [
    "## initialization"
   ]
  },
  {
   "cell_type": "code",
   "execution_count": 4,
   "id": "3b7c9850-8879-44b4-807b-e2362063ecda",
   "metadata": {},
   "outputs": [],
   "source": [
    "def square(freq, t, phase, shift):\n",
    "    a = (np.sin(freq * t + phase)) + shift\n",
    "    d = np.round(a)\n",
    "    return d"
   ]
  },
  {
   "cell_type": "code",
   "execution_count": 8,
   "id": "0918564d-1109-4ee9-b215-2b627247c467",
   "metadata": {},
   "outputs": [],
   "source": [
    "sample_rate = 44100\n",
    "duration = 1000 # in seconds\n",
    "\n",
    "frequency_x = 0.5\n",
    "frequency_y = 0.5\n",
    "\n",
    "phase_x = np.pi/2\n",
    "phase_y = 0\n",
    "\n",
    "amplitude_x = 1\n",
    "amplitude_y = 1\n",
    "\n",
    "t = np.linspace(0, duration * 2 * np.pi , int(duration * sample_rate))\n",
    "\n",
    "squarewave = square(2 *  frequency_x, t, 0, 0.5)\n",
    "\n",
    "left = np.abs(np.sin(frequency_x * t + phase_x ) * amplitude_x) * squarewave\n",
    "right = np.sin(frequency_y * t + phase_y) * amplitude_y\n",
    "\n",
    "\n",
    "sinewave_data = np.array([right,left]).T\n"
   ]
  },
  {
   "cell_type": "code",
   "execution_count": 62,
   "id": "ce762d85-c8d8-4c39-a7a5-03ab6dc02afd",
   "metadata": {},
   "outputs": [],
   "source": [
    "sd.play(sinewave_data, sample_rate)"
   ]
  },
  {
   "cell_type": "code",
   "execution_count": 63,
   "id": "2ccffdba-1e4f-4f5e-a782-6fa0a74d87e9",
   "metadata": {},
   "outputs": [],
   "source": [
    "sd.stop()\n",
    "\n"
   ]
  },
  {
   "cell_type": "code",
   "execution_count": 9,
   "id": "fed0e2f9-7ab1-457e-955c-44cd2169eafd",
   "metadata": {},
   "outputs": [
    {
     "ename": "ModuleNotFoundError",
     "evalue": "No module named 'matplotlib'",
     "output_type": "error",
     "traceback": [
      "\u001b[0;31m---------------------------------------------------------------------------\u001b[0m",
      "\u001b[0;31mModuleNotFoundError\u001b[0m                       Traceback (most recent call last)",
      "\u001b[0;32m/tmp/ipykernel_29371/2439114243.py\u001b[0m in \u001b[0;36m<module>\u001b[0;34m\u001b[0m\n\u001b[0;32m----> 1\u001b[0;31m \u001b[0;32mimport\u001b[0m \u001b[0mmatplotlib\u001b[0m\u001b[0;34m.\u001b[0m\u001b[0mpyplot\u001b[0m \u001b[0;32mas\u001b[0m \u001b[0mplt\u001b[0m\u001b[0;34m\u001b[0m\u001b[0;34m\u001b[0m\u001b[0m\n\u001b[0m\u001b[1;32m      2\u001b[0m \u001b[0;34m\u001b[0m\u001b[0m\n\u001b[1;32m      3\u001b[0m \u001b[0;31m# slicing 500 samples off of your wavfile should show about 5 cycles\u001b[0m\u001b[0;34m\u001b[0m\u001b[0;34m\u001b[0m\u001b[0;34m\u001b[0m\u001b[0m\n\u001b[1;32m      4\u001b[0m \u001b[0mplot_data\u001b[0m \u001b[0;34m=\u001b[0m \u001b[0msinewave_data\u001b[0m\u001b[0;34m[\u001b[0m\u001b[0;34m:\u001b[0m\u001b[0;36m100\u001b[0m\u001b[0;34m]\u001b[0m\u001b[0;34m\u001b[0m\u001b[0;34m\u001b[0m\u001b[0m\n\u001b[1;32m      5\u001b[0m \u001b[0;34m\u001b[0m\u001b[0m\n",
      "\u001b[0;31mModuleNotFoundError\u001b[0m: No module named 'matplotlib'"
     ]
    }
   ],
   "source": [
    "import matplotlib.pyplot as plt\n",
    "\n",
    "# slicing 500 samples off of your wavfile should show about 5 cycles\n",
    "plot_data = sinewave_data[:100]\n",
    "\n",
    "fig, ax = plt.subplots()\n",
    "ax.plot(plot_data, linewidth=3)\n",
    "plt.xlabel('Sample Number')\n",
    "plt.ylabel('Amplitude')\n",
    "\n",
    "plt.title('Sine Wave')\n",
    "plt.show()"
   ]
  },
  {
   "cell_type": "code",
   "execution_count": 60,
   "id": "8ffca241-5415-437c-b9ee-a8ec5a4e0bb8",
   "metadata": {},
   "outputs": [
    {
     "data": {
      "image/png": "[encoded data removed]",
      "text/plain": [
       "<Figure size 640x480 with 1 Axes>"
      ]
     },
     "metadata": {},
     "output_type": "display_data"
    }
   ],
   "source": [
    "import matplotlib.pyplot as plt\n",
    "\n",
    "# slicing 500 samples off of your wavfile should show about 5 cycles\n",
    "plot_data = squarewave[:50]\n",
    "\n",
    "fig, ax = plt.subplots()\n",
    "ax.plot(plot_data, linewidth=3)\n",
    "plt.xlabel('Sample Number')\n",
    "plt.ylabel('Amplitude')\n",
    "plt.title('Sine Wave')\n",
    "plt.show()"
   ]
  },
  {
   "cell_type": "code",
   "execution_count": null,
   "id": "ca84c11f-6560-4c5d-b278-3d5b86e4b1b7",
   "metadata": {},
   "outputs": [],
   "source": []
  }
 ],
 "metadata": {
  "kernelspec": {
   "display_name": "Python 3 (ipykernel)",
   "language": "python",
   "name": "python3"
  },
  "language_info": {
   "codemirror_mode": {
    "name": "ipython",
    "version": 3
   },
   "file_extension": ".py",
   "mimetype": "text/x-python",
   "name": "python",
   "nbconvert_exporter": "python",
   "pygments_lexer": "ipython3",
   "version": "3.9.6"
  }
 },
 "nbformat": 4,
 "nbformat_minor": 5
}
